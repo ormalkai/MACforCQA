{
 "cells": [
  {
   "cell_type": "code",
   "execution_count": 1,
   "metadata": {},
   "outputs": [],
   "source": [
    "import json\n",
    "import gzip\n",
    "import pickle"
   ]
  },
  {
   "cell_type": "markdown",
   "metadata": {},
   "source": [
    "## Loading test results"
   ]
  },
  {
   "cell_type": "code",
   "execution_count": 2,
   "metadata": {},
   "outputs": [],
   "source": [
    "TEST_PRED_FILE = \"preds/very_last_final_test_low_dim_no_mask_kb/testPredictions-very_last_final_test_low_dim_no_mask_kb.json.after_one_epoch\"\n",
    "with open(TEST_PRED_FILE, \"r\") as f:\n",
    "    test_predictions = json.load(f)"
   ]
  },
  {
   "cell_type": "markdown",
   "metadata": {},
   "source": [
    "#### Loading the original dataset"
   ]
  },
  {
   "cell_type": "code",
   "execution_count": 3,
   "metadata": {},
   "outputs": [],
   "source": [
    "test_data_questions_file = \"Data/\" + \"final_test_questions.json.gz\"\n",
    "with gzip.open(test_data_questions_file, \"rb\") as f:\n",
    "    test_data_questions_dict = json.load(f)\n",
    "test_data_snippets_file = \"Data/\" + \"final_test_snippets.json.gz\"\n",
    "with gzip.open(test_data_snippets_file, \"rb\") as f:\n",
    "    test_data_snippets_dict = json.load(f)\n",
    "\n",
    "test_data_questions = [item for item in test_data_questions_dict if item is not None]\n",
    "test_data_snippets = [item[\"snippets\"] for item in test_data_snippets_dict if item is not None]"
   ]
  },
  {
   "cell_type": "markdown",
   "metadata": {},
   "source": [
    "#### Loading index to word mapping"
   ]
  },
  {
   "cell_type": "code",
   "execution_count": 4,
   "metadata": {},
   "outputs": [],
   "source": [
    "# loading word to index mapping\n",
    "with open('Data/inverse_word_token_map.pickle', 'rb') as f:\n",
    "    index_to_word = pickle.load(f)\n",
    "index_to_word[0] = \"\""
   ]
  },
  {
   "cell_type": "code",
   "execution_count": 5,
   "metadata": {},
   "outputs": [],
   "source": [
    "def convert_tokens_to_words(tokens):\n",
    "    res = []\n",
    "    for tok in tokens:\n",
    "        res.append(index_to_word[tok])\n",
    "    return res"
   ]
  },
  {
   "cell_type": "code",
   "execution_count": 8,
   "metadata": {},
   "outputs": [
    {
     "name": "stdout",
     "output_type": "stream",
     "text": [
      "question: which of team owners tom hicks sports team are in the american league west ?     \n",
      "answer:   texas rangers\n",
      "\n",
      "question: what colleges did the famous person who went to castlemont high school go to ?     \n",
      "answer:   joe morgan\n",
      "\n",
      "question: what movie with the character teklel hafouli did ron howard do ?        \n",
      "answer:   star wars\n",
      "\n",
      "question: in the nation that has the badakhshan province , what religions are practiced ?      \n",
      "answer:   us department\n",
      "\n",
      "question: who was the governor of arizona in 2009 that held his governmental position before 1998 ?    \n",
      "answer:   jan brewer\n",
      "\n",
      "question: what does the missouri river bisect in the central time zone ?        \n",
      "answer:   south dakota\n",
      "\n",
      "question: who was the governor of ohio in 2011 that was in the government prior to ?    \n",
      "answer:   john kasich\n",
      "\n",
      "question: which of the seven central american countries had co2 emissions per capita once of 2009 metric ton ?  \n",
      "answer:   central america\n",
      "\n",
      "question: what team that has a mascot named mariner moose is in the american league west ?    \n",
      "answer:   seattle mariners\n",
      "\n",
      "question: what religion is practiced in indonesia and has a sacred site of mecca ?      \n",
      "answer:   islam\n",
      "\n"
     ]
    }
   ],
   "source": [
    "for q, predicted_answer in zip(test_data_questions[30:40], test_predictions[30:40]):\n",
    "    q_words = \" \".join(convert_tokens_to_words(q[\"question\"]))\n",
    "    print (\"question: {}\".format(q_words))\n",
    "    print (\"answer:   {}\".format(predicted_answer))\n",
    "    print (\"\")"
   ]
  },
  {
   "cell_type": "markdown",
   "metadata": {},
   "source": [
    "#### build results submiision"
   ]
  },
  {
   "cell_type": "code",
   "execution_count": 9,
   "metadata": {},
   "outputs": [],
   "source": [
    "res = []\n",
    "for q, predicted_answer in zip(test_data_questions, test_predictions):\n",
    "    q_res = {\"ID\": q[\"ID\"], \"answer\": predicted_answer}\n",
    "    res.append(q_res)"
   ]
  },
  {
   "cell_type": "code",
   "execution_count": 10,
   "metadata": {},
   "outputs": [],
   "source": [
    "FINAL_TEST_PREDICTIONS_FOR_SUBMISSION_FILE = \"final_results_for_submission.json\"\n",
    "with open (FINAL_TEST_PREDICTIONS_FOR_SUBMISSION_FILE, \"w+\") as f:\n",
    "    json.dump(res, f)"
   ]
  },
  {
   "cell_type": "code",
   "execution_count": null,
   "metadata": {},
   "outputs": [],
   "source": []
  }
 ],
 "metadata": {
  "kernelspec": {
   "display_name": "Python 3 (Intel, 2018 update 2)",
   "language": "python",
   "name": "intel_distribution_of_python_3_2018u2"
  },
  "language_info": {
   "codemirror_mode": {
    "name": "ipython",
    "version": 3
   },
   "file_extension": ".py",
   "mimetype": "text/x-python",
   "name": "python",
   "nbconvert_exporter": "python",
   "pygments_lexer": "ipython3",
   "version": "3.6.3"
  }
 },
 "nbformat": 4,
 "nbformat_minor": 2
}
